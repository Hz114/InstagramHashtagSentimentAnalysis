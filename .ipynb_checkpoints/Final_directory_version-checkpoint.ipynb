{
 "cells": [
  {
   "cell_type": "markdown",
   "metadata": {},
   "source": [
    "1. 태그 읽어와서\n",
    "2. 태그 내용이 내가 말한 폴더에 있는지 확인 후\n",
    "3. 있으면 해당 숫자 +1"
   ]
  },
  {
   "cell_type": "code",
   "execution_count": 2,
   "metadata": {},
   "outputs": [],
   "source": [
    "import pandas as pd\n",
    "import os\n",
    "import csv\n",
    "\n",
    "path = os.getcwd()\n",
    "path_hash = \"./utf-8\"\n",
    "path_hash_cp949 = \"./cp949\"\n",
    "path = path + \"\\\\\" + \"jjoo_won_e.csv\""
   ]
  },
  {
   "cell_type": "markdown",
   "metadata": {},
   "source": [
    "CSV 파일 읽어오기 테스트"
   ]
  },
  {
   "cell_type": "code",
   "execution_count": 3,
   "metadata": {
    "scrolled": true
   },
   "outputs": [
    {
     "name": "stdout",
     "output_type": "stream",
     "text": [
      "['벚꽃', '마실', '아바라최고', '자유', '협찬', '아이보리캠페인', '생후1일부터', '벨레다베이비', '카렌듈라베이비오일', '베이비오일', '베이비마사지', '점퍼루', '태어난지', '116일', '사랑해', '태어난지', '92일', '태어난지', '89일', '천천히', '자라줘', '내시끼', '스위마바', '아기수영장', '울아들', '돌고래', '', 'love', '벚꽃', '마실', '아바라최고', '자유', '협찬', '아이보리캠페인', '생후1일부터', '벨레다베이비', '카렌듈라베이비오일', '베이비오일', '베이비마사지', '점퍼루', '태어난지', '116일', '사랑해', '태어난지', '92일', '태어난지', '89일', '천천히', '자라줘', '내시끼', '스위마바', '아기수영장', '울아들', '돌고래', '', 'love', 'baby', 'babystagram', '육아', '육아스타그램', '아들맘', '아들바보', '쥐띠', '쥐띠아기', '쥐띠맘', '베이비스타그램', '일상', '데일리', '육아일상', '소통', '육아소통', '아기소통', '45일', '육아일기', '선팔', '맞팔', '좋아요', '반사', '', '40일', 'baby', '원더윅스', '시작', '육아스타그램', '아들맘', '쥐띠맘', '아들바보']\n"
     ]
    }
   ],
   "source": [
    "csv_file = pd.read_csv(path)\n",
    "f = open(path,\"r\",encoding='utf-8')\n",
    "rdr = csv.reader(f)\n",
    "tags = []\n",
    "for line in rdr:\n",
    "    if line[0].isdigit(): # 첫 번째 인수의 값이 숫자면\n",
    "        new_string = ''.join(filter(str.isalnum, line[-1])) # 특수문자 제거\n",
    "        tags.append(new_string)\n",
    "print(tags)\n",
    "    # 한 줄 읽고, 0번이 숫자면 해당 리스트의 마지막 내용을 읽어온다."
   ]
  },
  {
   "cell_type": "markdown",
   "metadata": {},
   "source": [
    "텍스트 파일 하나당 하나의 기준.\n",
    "내부에 존재하는지 확인하기 위한 파일 준비"
   ]
  },
  {
   "cell_type": "code",
   "execution_count": 4,
   "metadata": {},
   "outputs": [],
   "source": [
    "# 파일 읽어오기\n",
    "file_list = os.listdir(path_hash)\n",
    "# print(file_list)\n",
    "path = \"\" \n",
    "Middle = [i for i in range(0,24)] # 단어 체크용\n",
    "count = 0 # 인덱싱용\n",
    "file_order = [] # 순서용\n",
    "for file in file_list:\n",
    "    file_order.append(file)\n",
    "    path = path_hash + \"\\\\\" + file\n",
    "    f = open(path,\"r\", encoding = 'utf-8')\n",
    "    Middle[count] = f.read()\n",
    "    count += 1\n",
    "    f.close()\n",
    "\n",
    "# 인코딩 오류나는 나머지 파일 읽어들이기    \n",
    "\n",
    "path = path_hash_cp949 + \"\\\\\" + \"T셀카.txt\"\n",
    "f = open(path,\"r\",encoding=\"cp949\")\n",
    "file_order.append(\"T셀카.txt\")\n",
    "Middle[count] = f.read()\n",
    "count += 1\n",
    "f.close()\n",
    "\n",
    "path = path_hash_cp949 + \"\\\\\" + \"T일상.txt\"\n",
    "f = open(path,\"r\",encoding=\"cp949\")\n",
    "file_order.append(\"T일상.txt\")\n",
    "Middle[count] = f.read()\n",
    "count += 1\n",
    "f.close()\n",
    "\n",
    "path = path_hash_cp949 + \"\\\\\" + \"T데일리코디.txt\"\n",
    "f = open(path,\"r\",encoding=\"cp949\")\n",
    "file_order.append(\"T데일리코디.txt\")\n",
    "Middle[count] = f.read()\n",
    "f.close()\n",
    "\n",
    "# 영어부분 추가\n",
    "Middle[-1] = 'eng'\n",
    "file_order.append('eng')\n"
   ]
  },
  {
   "cell_type": "markdown",
   "metadata": {},
   "source": [
    "내부에 문구가 존재하는지 확인"
   ]
  },
  {
   "cell_type": "code",
   "execution_count": 5,
   "metadata": {
    "scrolled": true
   },
   "outputs": [],
   "source": [
    "light_on = [ 0 for i in range(len(file_order))] # 일치하는 문장이나 구절이 있으면 +1, 인덱스는 file_order 따라감\n",
    "for tag in tags:\n",
    "    if tag.encode().isalpha():\n",
    "        light_on[-1] += 1\n",
    "    for i in range(len(Middle)):\n",
    "        if tag in Middle[i]:\n",
    "            light_on[i] += 1\n",
    "        #--- '비' tag도 육아에 잡힘."
   ]
  },
  {
   "cell_type": "code",
   "execution_count": 6,
   "metadata": {},
   "outputs": [
    {
     "name": "stdout",
     "output_type": "stream",
     "text": [
      "{'T가족.txt': 16, 'T감정.txt': 3, 'T공부스타그램.txt': 5, 'T그림.txt': 4, 'T낚시.txt': 3, 'T다이어트그램.txt': 4, 'T등산스타그램.txt': 3, 'T럽스타그램.txt': 5, 'T뮤직스타그램.txt': 3, 'T반려동물.txt': 3, 'T뷰티스타그램.txt': 4, 'T여행.txt': 3, 'T음식.txt': 4, 'T인테리어.txt': 3, 'T책스타그램.txt': 3, 'T취미.txt': 5, 'T카페스타그램.txt': 3, 'T캠핑그램.txt': 3, 'T풍경.txt': 5, 'T헬스타그램.txt': 3, 'T셀카.txt': 3, 'T일상.txt': 10, 'T데일리코디.txt': 5, 'eng': 8}\n"
     ]
    }
   ],
   "source": [
    "dic = { name:value for name, value in zip(file_order, light_on) } # 두 개의 리스트를 하나의 딕셔너리로\n",
    "print(dic)\n",
    "\n"
   ]
  },
  {
   "cell_type": "code",
   "execution_count": null,
   "metadata": {},
   "outputs": [],
   "source": []
  },
  {
   "cell_type": "code",
   "execution_count": null,
   "metadata": {},
   "outputs": [],
   "source": []
  }
 ],
 "metadata": {
  "kernelspec": {
   "display_name": "Python 3",
   "language": "python",
   "name": "python3"
  },
  "language_info": {
   "codemirror_mode": {
    "name": "ipython",
    "version": 3
   },
   "file_extension": ".py",
   "mimetype": "text/x-python",
   "name": "python",
   "nbconvert_exporter": "python",
   "pygments_lexer": "ipython3",
   "version": "3.8.5"
  }
 },
 "nbformat": 4,
 "nbformat_minor": 4
}
